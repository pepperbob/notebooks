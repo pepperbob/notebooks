{
 "cells": [
  {
   "cell_type": "code",
   "execution_count": 10,
   "metadata": {},
   "outputs": [
    {
     "name": "stdout",
     "output_type": "stream",
     "text": [
      "Hash for admin:\n",
      "$2b$12$.n0JIEdESlj32mY1PpNBK.PXhoc0fXyYI1SJ.BOkdrRnyohlEZ5qK\n"
     ]
    }
   ],
   "source": [
    "import bcrypt\n",
    "\n",
    "password = input(\"Password\")\n",
    "salt = bcrypt.gensalt()\n",
    "\n",
    "hashed = bcrypt.hashpw(password.encode(\"utf-8\"), salt).decode(\"utf-8\")\n",
    "\n",
    "print(f\"Hash for {password}:\")\n",
    "print(hashed)"
   ]
  }
 ],
 "metadata": {
  "kernelspec": {
   "display_name": "Python 3",
   "language": "python",
   "name": "python3"
  },
  "language_info": {
   "codemirror_mode": {
    "name": "ipython",
    "version": 3
   },
   "file_extension": ".py",
   "mimetype": "text/x-python",
   "name": "python",
   "nbconvert_exporter": "python",
   "pygments_lexer": "ipython3",
   "version": "3.10.12"
  }
 },
 "nbformat": 4,
 "nbformat_minor": 2
}
